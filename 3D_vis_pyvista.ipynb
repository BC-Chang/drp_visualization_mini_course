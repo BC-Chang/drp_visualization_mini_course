{
 "cells": [
  {
   "cell_type": "markdown",
   "id": "38e4d29d",
   "metadata": {},
   "source": [
    "# Surface visualization in 3D\n",
    "\n",
    "Created by: Bernard Chang, Masa Prodanovic and James McClure\n",
    "\n",
    "Updated: March 2022\n",
    "\n",
    "## Motivation\n",
    "\n",
    "Segmented (also sometimes binary) images are those where each pixel or voxel has been classified as a member of a finite number of groups (phases, physical objects, elements or whatever is of interest to identify).\n",
    "\n",
    "We will here not spend more on the subject of segmentation (extremely important one!), but will use one such segmented image to plot surfaces between different phases (e.g. fluids, mineral phases in subsurface porous media) has already been made.\n",
    "\n",
    "In 3D, it is very useful to draw surface that separates two phases or it is placed at an interpolated \"level\" of data. It is also called isosurface.\n",
    "\n",
    "## Import some useful packages\n"
   ]
  },
  {
   "cell_type": "code",
   "execution_count": 1,
   "id": "d9e5fa40",
   "metadata": {},
   "outputs": [],
   "source": [
    "import requests # library for file download\n",
    "\n",
    "import numpy as np\n",
    "import skimage.transform\n",
    "\n",
    "import matplotlib.pyplot as plt\n",
    "import pyvista as pv"
   ]
  },
  {
   "cell_type": "markdown",
   "id": "af66b8f8",
   "metadata": {},
   "source": [
    "## Useful functions for download and statistics"
   ]
  },
  {
   "cell_type": "code",
   "execution_count": 2,
   "id": "30690041",
   "metadata": {},
   "outputs": [],
   "source": [
    "def download_file_url(file_url,filename):\n",
    "\n",
    "    # download file\n",
    "    r = requests.get(file_url, stream = True) \n",
    "\n",
    "    with open(filename,\"wb\") as f: \n",
    "        for chunk in r.iter_content(chunk_size=1024): \n",
    "\n",
    "             # writing one chunk at a time to pdf file \n",
    "             if chunk: \n",
    "                 f.write(chunk)\n",
    "    return\n",
    "\n",
    "\n",
    "\n",
    "def image_statistics(image, plot_histogram=False):\n",
    "    print('\\nImage (ndarray) shape',image.shape)\n",
    "    print('\\nImage data type',image.dtype)\n",
    "\n",
    "    # This is a 2D image, and min, max and mean functions are programmed to work by dimension. \n",
    "    # So we will reshape the array. \n",
    "    # Be mindful that below we are on purpose creating another copy of the array (and doubles the memory use)\n",
    "    dims = image.shape;\n",
    "    reshaped_image = np.copy(image) \n",
    "    reshaped_image.shape = (np.prod(dims),)\n",
    "\n",
    "    # min, max, mean are functions that are built into ndarray class in NumPy. If we call them such as in example below,\n",
    "    # then they will execute on the ndarray reshaped_image\n",
    "    print('\\nImage values min:', reshaped_image.min(), 'max:',reshaped_image.max(), 'mean:',reshaped_image.mean())\n",
    "\n",
    "    if plot_histogram:\n",
    "        #Histogram\n",
    "        # histogram has 256 bins, is normalized (density=True),\n",
    "        # so that comparison with other images of different size is possible and is shown in green color\n",
    "        plt.hist(reshaped_image, 256, density=True, facecolor='g', alpha=0.75)\n",
    "\n",
    "        plt.xlabel('Image value')\n",
    "        plt.ylabel('Probability')\n",
    "\n",
    "        #plt.axis([40, 160, 0, 0.03])\n",
    "        plt.grid(True)\n",
    "        plt.show()\n",
    "\n",
    "    return"
   ]
  },
  {
   "cell_type": "markdown",
   "id": "59103f11",
   "metadata": {},
   "source": [
    "## Example from DRP\n",
    "\n",
    "We will download Digital Rocks Portal Example for the purpose from https://www.digitalrocksportal.org/projects/125/analysis_data/187/"
   ]
  },
  {
   "cell_type": "code",
   "execution_count": 3,
   "id": "e770a43e",
   "metadata": {},
   "outputs": [],
   "source": [
    "# File download\n",
    "\n",
    "file_url = \"https://www.digitalrocksportal.org/projects/125/images/101255/download/\"\n",
    "filename = \"Ketton_segmented_oil_blob.raw\"\n",
    "\n",
    "download_file_url(file_url,filename)"
   ]
  },
  {
   "cell_type": "code",
   "execution_count": 4,
   "id": "ab669ab6",
   "metadata": {},
   "outputs": [],
   "source": [
    "# Read downloaded file.\n",
    "\n",
    "# the file is binary (.raw) file, \n",
    "# and requires information from the webpage on how to read it.\n",
    "width  = 365\n",
    "height = 255\n",
    "slices = 225\n",
    "\n",
    "# Alternative\n",
    "#dtype  = 'u1'\n",
    "#byte = '<'  # little endian byte order\n",
    "# read date from file\n",
    "#datatype = byte + dtype    \n",
    "\n",
    "alldata = np.fromfile(filename, dtype=np.ubyte, sep=\"\")\n",
    "image = alldata.reshape([slices, height, width])"
   ]
  },
  {
   "cell_type": "code",
   "execution_count": 5,
   "id": "da4968a4",
   "metadata": {},
   "outputs": [
    {
     "name": "stdout",
     "output_type": "stream",
     "text": [
      "Original image stats\n",
      "\n",
      "\n",
      "Image (ndarray) shape (225, 255, 365)\n",
      "\n",
      "Image data type uint8\n",
      "\n",
      "Image values min: 1 max: 3 mean: 2.7589871967051662\n",
      "\n",
      "Image (ndarray) shape (112, 128, 182)\n",
      "\n",
      "Image data type float64\n",
      "\n",
      "Image values min: 0.9999999999999998 max: 2.999999999999999 mean: 2.758989161169739\n"
     ]
    }
   ],
   "source": [
    "print('Original image stats\\n')\n",
    "image_statistics(image, plot_histogram=False)\n",
    "\n",
    "# need to downsample image since it is too large\n",
    "# Note - if I provide integer image below, then rescaling \n",
    "# shifts the image values even if I preserve_range (i.e. set it to True). \n",
    "# Hence I do a type conversion (image.astype(float))\n",
    "# Likely culprit:\n",
    "# Some online sites warn that skimage converts all floats to [-1,1]\n",
    "# and many functions return float even if they get integer array.\n",
    "image_rescaled  = skimage.transform.rescale(image.astype(float), 0.5, preserve_range=True)\n",
    "\n",
    "# check stats on rescaled image to make sure the values are preserved\n",
    "image_statistics(image_rescaled, plot_histogram=False)\n",
    "\n",
    "# resizing has the same trouble with integer array input, \n",
    "# so would have to use image.astype(float) conversion\n",
    "\n",
    "#factor = 2\n",
    "#image_resized = skimage.transform.resize(image,[width/factor,height/factor, slices/factor])\n",
    "#image_statistics(image_resized,plot_histogram=False)"
   ]
  },
  {
   "cell_type": "markdown",
   "id": "13d1ef3d",
   "metadata": {},
   "source": [
    "### Matplotlib\n",
    "\n",
    "A quick check to see what a slice through our Ketton limestone image looks like"
   ]
  },
  {
   "cell_type": "code",
   "execution_count": 6,
   "id": "0bd85161",
   "metadata": {},
   "outputs": [
    {
     "data": {
      "text/plain": [
       "<matplotlib.colorbar.Colorbar at 0x27fad411490>"
      ]
     },
     "execution_count": 6,
     "metadata": {},
     "output_type": "execute_result"
    },
    {
     "data": {
      "image/png": "[encoded data removed]",
      "text/plain": [
       "<Figure size 432x288 with 2 Axes>"
      ]
     },
     "metadata": {
      "needs_background": "light"
     },
     "output_type": "display_data"
    }
   ],
   "source": [
    "plt.imshow(image_rescaled[50,:,:], cmap='gray')\n",
    "plt.colorbar()"
   ]
  },
  {
   "cell_type": "markdown",
   "id": "a904554d",
   "metadata": {},
   "source": [
    "### PyVista\n",
    "\n",
    "Now for the fun stuff...\n",
    "\n",
    "Here, we will exemplify PyVista — an open-source, Python library that provides toolsets for 3D Visualization and mesh analysis. Though there are several other available 3D visualization libraries (e.g. Vedo, Mayavi, Matplotlib, etc.), PyVista is currently stable across all computing platforms and provides relatively clear documentation.\n",
    "\n",
    "Documentation:\n",
    "https://docs.pyvista.org/"
   ]
  },
  {
   "cell_type": "code",
   "execution_count": 7,
   "id": "b609e274",
   "metadata": {},
   "outputs": [],
   "source": [
    "# Enable interactive plotting within a Jupyter notebook\n",
    "pv.set_jupyter_backend('pythreejs')\n",
    "\n",
    "\n",
    "# A function to initialize a PyVista Plotter Object\n",
    "def initialize_plotter():\n",
    "    \n",
    "    # Initialize a PyVista Plotter Object\n",
    "    plotter_obj = pv.Plotter()\n",
    "    \n",
    "    # Set the background color to white\n",
    "    plotter_obj.set_background(color='w')\n",
    "    \n",
    "    return plotter_obj\n",
    "\n",
    "\n",
    "# Wrap 3D NumPy array to PyVista data object\n",
    "pv_img = pv.wrap(image_rescaled)"
   ]
  },
  {
   "cell_type": "markdown",
   "id": "2080ebaa",
   "metadata": {},
   "source": [
    "#### Our first PyVista plot\n",
    "Here, we will create our first 3D plot in PyVista — we will visualize three orthogonal slices through the image. \n",
    "\n",
    "The workflow for creating any PyVista plot can be generalized as follows:\n",
    "\n",
    "1. Make sure the data you want to plot is a PyVista data object. We used the wrap function in the cell above to convert a NumPy array into the PyVista data object. Depending on how your data is formatted to begin with (e.g. VTK object), you may need to find alternate methods of creating a PyVista data object.\n",
    "    \n",
    "2. Initialize a plotter object\n",
    "\n",
    "3. Create a mesh for the data you wish to plot (e.g. orthogonal slices, isosurfaces, etc.) and add the mesh to the plotter object\n",
    "\n",
    "4. Use the ```show()``` function to display the plot in a self-contained plotter "
   ]
  },
  {
   "cell_type": "code",
   "execution_count": 8,
   "id": "89e7a6e8",
   "metadata": {},
   "outputs": [
    {
     "data": {
      "application/vnd.jupyter.widget-view+json": {
       "model_id": "798761cd45524afe9b7d627fe5097e25",
       "version_major": 2,
       "version_minor": 0
      },
      "text/plain": [
       "Renderer(camera=PerspectiveCamera(aspect=1.3333333333333333, children=(DirectionalLight(color='#fefefe', inten…"
      ]
     },
     "metadata": {},
     "output_type": "display_data"
    }
   ],
   "source": [
    "# A function that plots orthogonal slices through the 3D image\n",
    "def plot_orthogonal_slices(pv_image_obj, x_slice, y_slice, z_slice):\n",
    "    ################################################################################ \n",
    "    # Input: PyVista image object (wrapped NumPy array), x, y, and z slices to plot\n",
    "    # Output: PyVista plot of orthogonal slices\n",
    "    ################################################################################\n",
    "    \n",
    "    # Initialize the PyVista plotter object\n",
    "    p = initialize_plotter()\n",
    "    \n",
    "    # Tests to make sure input slices are within image dimensions\n",
    "    assert x_slice > 0 and x_slice < pv_image_obj.dimensions[0], \"X-slice value outside image dimensions\"\n",
    "    assert y_slice > 0 and y_slice < pv_image_obj.dimensions[1], \"Y-slice value outside image dimensions\"\n",
    "    assert z_slice > 0 and z_slice < pv_image_obj.dimensions[2], \"Z-slice value outside image dimensions\"\n",
    "    \n",
    "    # Create three orthogonal slices through the dataset at specified X, Y, and Z values\n",
    "    slices = pv_image_obj.slice_orthogonal(x=x_slice, y=y_slice, z=z_slice)\n",
    "    \n",
    "    # Add the slices as meshes to the PyVista plotter object\n",
    "    p.add_mesh(slices)\n",
    "    \n",
    "    p.show()\n",
    "\n",
    "\n",
    "# Get dimensions of the rescaled image\n",
    "x_dim, y_dim, z_dim = pv_img.dimensions\n",
    "\n",
    "# Function call to plot the orthogonal slices.\n",
    "plot_orthogonal_slices(pv_img, x_dim//2 , y_dim//2, z_dim//2)\n"
   ]
  },
  {
   "cell_type": "markdown",
   "id": "1f5bc020",
   "metadata": {},
   "source": [
    "#### Plot just the oil blob\n",
    "\n",
    "In the segmented image, we have 1, 2 and 3 represent oil, brine and rock respectively.\n",
    "\n",
    "The interpolated value of 1.5 separated oil from everything else."
   ]
  },
  {
   "cell_type": "code",
   "execution_count": 9,
   "id": "4e298ad8",
   "metadata": {},
   "outputs": [
    {
     "data": {
      "application/vnd.jupyter.widget-view+json": {
       "model_id": "696160eb00e4411d9aeafaa1516dd07f",
       "version_major": 2,
       "version_minor": 0
      },
      "text/plain": [
       "Renderer(camera=PerspectiveCamera(aspect=1.3333333333333333, children=(DirectionalLight(color='#fefefe', inten…"
      ]
     },
     "metadata": {},
     "output_type": "display_data"
    }
   ],
   "source": [
    "# Initialize a Plotter object\n",
    "p = initialize_plotter()\n",
    "\n",
    "oil_isosurface = pv_img.contour(isosurfaces=[1.5])\n",
    "p.add_mesh(oil_isosurface, color=(0, 0.8, 0.27), opacity=1)\n",
    "p.show()\n"
   ]
  },
  {
   "cell_type": "markdown",
   "id": "5d1b3e84",
   "metadata": {},
   "source": [
    "#### Plot just the pore space\n",
    "\n",
    "Recall that the segmented image represents oil, brine and rock with values of 1, 2 and 3 respectively.\n",
    "The surface passing through points where interpolated image values are 2.5 is a surface that separates both fluids and the rock. \n",
    "\n"
   ]
  },
  {
   "cell_type": "code",
   "execution_count": 10,
   "id": "9233a128",
   "metadata": {},
   "outputs": [
    {
     "data": {
      "application/vnd.jupyter.widget-view+json": {
       "model_id": "880c7037666a479dbcc7007dbfb89808",
       "version_major": 2,
       "version_minor": 0
      },
      "text/plain": [
       "Renderer(camera=PerspectiveCamera(aspect=1.3333333333333333, children=(DirectionalLight(color='#fefefe', inten…"
      ]
     },
     "metadata": {},
     "output_type": "display_data"
    }
   ],
   "source": [
    "# Initialize a Plotter object\n",
    "p = initialize_plotter()\n",
    "\n",
    "grain_isosurface = pv_img.contour(isosurfaces=[2.5])\n",
    "p.add_mesh(grain_isosurface, color=(0.7, 0.95, 1), opacity=0.8)\n",
    "p.show()"
   ]
  },
  {
   "cell_type": "markdown",
   "id": "0239818f",
   "metadata": {},
   "source": [
    "#### Plot oil blob and grain surface\n",
    "\n",
    "To plot the oil blob and grain surface together (and any other phase that might be present), you can simply keep adding meshes to the same initial plotter object. "
   ]
  },
  {
   "cell_type": "code",
   "execution_count": 11,
   "id": "4160624e",
   "metadata": {},
   "outputs": [
    {
     "data": {
      "application/vnd.jupyter.widget-view+json": {
       "model_id": "702edb71dbf0403e8109f6cde7342544",
       "version_major": 2,
       "version_minor": 0
      },
      "text/plain": [
       "Renderer(camera=PerspectiveCamera(aspect=1.3333333333333333, children=(DirectionalLight(color='#fefefe', inten…"
      ]
     },
     "metadata": {},
     "output_type": "display_data"
    }
   ],
   "source": [
    "# Initialize a Plotter object\n",
    "p = initialize_plotter()\n",
    "\n",
    "oil_surface = pv_img.contour(isosurfaces=[1.5])\n",
    "p.add_mesh(oil_surface, color=(0, 1, 0), opacity=1)\n",
    "\n",
    "grain_surface = pv_img.contour(isosurfaces=[2.5])\n",
    "p.add_mesh(grain_surface, color=(1, 1, 1), opacity=0.5)\n",
    "\n",
    "\n",
    "p.show_axes()\n",
    "p.show()"
   ]
  }
 ],
 "metadata": {
  "kernelspec": {
   "display_name": "Python 3 (ipykernel)",
   "language": "python",
   "name": "python3"
  },
  "language_info": {
   "codemirror_mode": {
    "name": "ipython",
    "version": 3
   },
   "file_extension": ".py",
   "mimetype": "text/x-python",
   "name": "python",
   "nbconvert_exporter": "python",
   "pygments_lexer": "ipython3",
   "version": "3.9.7"
  }
 },
 "nbformat": 4,
 "nbformat_minor": 5
}
