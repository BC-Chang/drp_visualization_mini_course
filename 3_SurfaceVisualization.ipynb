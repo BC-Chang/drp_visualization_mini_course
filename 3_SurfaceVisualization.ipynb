{
 "cells": [
  {
   "cell_type": "markdown",
   "metadata": {
    "ExecuteTime": {
     "end_time": "2020-10-22T04:42:21.386172Z",
     "start_time": "2020-10-22T04:42:21.383180Z"
    }
   },
   "source": [
    "\n",
    "\n"
   ]
  },
  {
   "cell_type": "markdown",
   "metadata": {
    "ExecuteTime": {
     "end_time": "2020-10-22T04:43:21.319426Z",
     "start_time": "2020-10-22T04:43:21.316421Z"
    }
   },
   "source": [
    "# Surface visualization in 3D\n",
    "Authors/Copyright: Masa Prodanovic and James McClure, all right reserved.\n",
    "\n",
    "Update: October 2020\n",
    "\n",
    "## Motivation\n",
    "\n",
    "Segmented (also sometimes binary) images are those where each pixel or voxel has been classified as a member of a finite number of groups (phases, physical objects, elements or whatever is of interest to identify).\n",
    "\n",
    "We will here not spend more on the subject of segmentation (__extremely important one!__), but will use one such segmented image to plot surfaces between different phases(e.g. fluids, mineral phases in subsurface porous media) has already been made. \n",
    "\n",
    "In 3D, it is very useful to draw surface that separates two phases or it is placed at an interpolated \"level\" of data. It is also called isosurface."
   ]
  },
  {
   "cell_type": "markdown",
   "metadata": {
    "ExecuteTime": {
     "end_time": "2020-10-22T04:46:32.964979Z",
     "start_time": "2020-10-22T04:46:32.951944Z"
    }
   },
   "source": [
    "## Useful functions for download and statistics"
   ]
  },
  {
   "cell_type": "code",
   "execution_count": 5,
   "metadata": {
    "ExecuteTime": {
     "end_time": "2020-10-22T04:44:15.865632Z",
     "start_time": "2020-10-22T04:44:15.858670Z"
    }
   },
   "outputs": [],
   "source": [
    "import requests # library for file download\n",
    "\n",
    "import numpy as np\n",
    "import matplotlib.pyplot as plt\n",
    "    \n",
    "def download_file_url(file_url,filename):\n",
    "\n",
    "    # download file\n",
    "    r = requests.get(file_url, stream = True) \n",
    "\n",
    "    with open(filename,\"wb\") as f: \n",
    "        for chunk in r.iter_content(chunk_size=1024): \n",
    "\n",
    "             # writing one chunk at a time to pdf file \n",
    "             if chunk: \n",
    "                 f.write(chunk)\n",
    "    return()\n",
    "\n",
    "\n",
    "\n",
    "def image_statistics(image,plot_histogram=False):\n",
    "    print('\\nImage (ndarray) shape',image.shape)\n",
    "    print('\\nImage data type',image.dtype)\n",
    "\n",
    "    # This is a 2D image, and min, max and mean functions are programmed to work by dimension. \n",
    "    # So we will reshape the array. \n",
    "    # Be mindful that below we are on purpose creating another copy of the array (and doubles the memory use)\n",
    "    dims = image.shape;\n",
    "    reshaped_image = np.copy(image) \n",
    "    reshaped_image.shape = (np.prod(dims),)\n",
    "\n",
    "    # min, max, mean are functions that are built into ndarray class in NumPy. If we call them such as in example below,\n",
    "    # then they will execute on the ndarray reshaped_image\n",
    "    print('\\nImage values min:', reshaped_image.min(), 'max:',reshaped_image.max(), 'mean:',reshaped_image.mean())\n",
    "\n",
    "    if plot_histogram:\n",
    "        #Histogram\n",
    "        # histogram has 256 bins, is normalized (density=True),\n",
    "        # so that comparison with other images of different size is possible and is shown in green color\n",
    "        plt.hist(reshaped_image, 256, density=True, facecolor='g', alpha=0.75)\n",
    "\n",
    "        plt.xlabel('Image value')\n",
    "        plt.ylabel('Probability')\n",
    "\n",
    "        #plt.axis([40, 160, 0, 0.03])\n",
    "        plt.grid(True)\n",
    "        plt.show()\n",
    "\n",
    "    return()"
   ]
  },
  {
   "cell_type": "markdown",
   "metadata": {},
   "source": [
    "\n",
    "# Example from DRP\n",
    "\n",
    "We will download Digital Rocks Portal Example for the purpose from\n",
    "https://www.digitalrocksportal.org/projects/125/analysis_data/187/\n"
   ]
  },
  {
   "cell_type": "code",
   "execution_count": 17,
   "metadata": {
    "ExecuteTime": {
     "end_time": "2020-10-22T05:10:41.679334Z",
     "start_time": "2020-10-22T05:10:31.332577Z"
    }
   },
   "outputs": [
    {
     "data": {
      "text/plain": [
       "()"
      ]
     },
     "execution_count": 17,
     "metadata": {},
     "output_type": "execute_result"
    }
   ],
   "source": [
    "# File download\n",
    "\n",
    "file_url = \"https://www.digitalrocksportal.org/projects/125/images/101255/download/\"\n",
    "filename = \"Ketton_segmented_oil_blob.raw\"\n",
    "\n",
    "download_file_url(file_url,filename)"
   ]
  },
  {
   "cell_type": "code",
   "execution_count": 34,
   "metadata": {
    "ExecuteTime": {
     "end_time": "2020-10-22T05:27:52.047111Z",
     "start_time": "2020-10-22T05:27:52.032130Z"
    }
   },
   "outputs": [],
   "source": [
    "# Read downloaded file.\n",
    "\n",
    "# the file is binary (.raw) file, \n",
    "# and requires information from the webpage on how to read it.\n",
    "width  = 365\n",
    "height = 255\n",
    "slices = 225\n",
    "\n",
    "# Alternative\n",
    "#dtype  = 'u1'\n",
    "#byte = '<'  # little endian byte order\n",
    "# read date from file\n",
    "#datatype = byte + dtype    \n",
    "\n",
    "alldata = np.fromfile(filename, dtype=np.ubyte, sep=\"\")\n",
    "image = alldata.reshape([slices, height, width])"
   ]
  },
  {
   "cell_type": "markdown",
   "metadata": {
    "ExecuteTime": {
     "end_time": "2020-07-16T06:12:52.765307Z",
     "start_time": "2020-07-16T06:12:52.760323Z"
    }
   },
   "source": [
    "## Image rescaling\n",
    "We rescale image to a smaller one in this exercise: this is useful for larger images where surface rendering might take a long time."
   ]
  },
  {
   "cell_type": "code",
   "execution_count": 19,
   "metadata": {
    "ExecuteTime": {
     "end_time": "2020-10-22T05:13:21.254486Z",
     "start_time": "2020-10-22T05:13:20.397204Z"
    }
   },
   "outputs": [
    {
     "name": "stdout",
     "output_type": "stream",
     "text": [
      "Original image stats\n",
      "\n",
      "\n",
      "Image (ndarray) shape (225, 255, 365)\n",
      "\n",
      "Image data type uint8\n",
      "\n",
      "Image values min: 1 max: 3 mean: 2.7589871967051662\n",
      "\n",
      "Image (ndarray) shape (112, 128, 182)\n",
      "\n",
      "Image data type float64\n",
      "\n",
      "Image values min: 0.9999999999999998 max: 2.999999999999999 mean: 2.758989161169739\n"
     ]
    },
    {
     "data": {
      "text/plain": [
       "()"
      ]
     },
     "execution_count": 19,
     "metadata": {},
     "output_type": "execute_result"
    }
   ],
   "source": [
    "from mayavi import mlab\n",
    "import skimage.transform\n",
    "\n",
    "print('Original image stats\\n')\n",
    "image_statistics(image, plot_histogram=False)\n",
    "\n",
    "# need to downsample image since it is too large\n",
    "# Note - if I provide integer image below, then rescaling \n",
    "# shifts the image values even if I preserve_range (i.e. set it to True). \n",
    "# Hence I do a type conversion (image.astype(float))\n",
    "# Likely culprit:\n",
    "# Some online sites warn that skimage converts all floats to [-1,1]\n",
    "# and many functions return float even if they get integer array.\n",
    "image_rescaled  = skimage.transform.rescale(image.astype(float), 0.5, preserve_range=True)\n",
    "\n",
    "# check stats on rescaled image to make sure the values are preserved\n",
    "image_statistics(image_rescaled, plot_histogram=False)\n",
    "\n",
    "# resizing has the same trouble with integer array input, \n",
    "# so would have to use image.astype(float) conversion\n",
    "\n",
    "#factor = 2\n",
    "#image_resized = skimage.transform.resize(image,[width/factor,height/factor, slices/factor])\n",
    "#image_statistics(image_resized,plot_histogram=False)"
   ]
  },
  {
   "cell_type": "code",
   "execution_count": 41,
   "metadata": {
    "ExecuteTime": {
     "end_time": "2020-10-22T05:49:57.311214Z",
     "start_time": "2020-10-22T05:41:21.373427Z"
    }
   },
   "outputs": [],
   "source": [
    "mlab.volume_slice(image, plane_orientation='x_axes', colormap='gray')\n",
    "mlab.show()"
   ]
  },
  {
   "cell_type": "markdown",
   "metadata": {
    "ExecuteTime": {
     "end_time": "2020-10-22T05:26:36.243976Z",
     "start_time": "2020-10-22T05:26:36.238990Z"
    }
   },
   "source": [
    "## Plot just oil blob\n",
    "\n",
    "In the segmented image, we have 1, 2 and 3 represent oil, brine and rock respectively.\n",
    "\n",
    "The interpolated value of 1.5 separated oil from everything else.\n",
    "\n",
    "Thus the surface passing through points where interpolated image values \n",
    "are 2.5 is a surface that separates both fluids and the rock."
   ]
  },
  {
   "cell_type": "code",
   "execution_count": 33,
   "metadata": {
    "ExecuteTime": {
     "end_time": "2020-10-22T05:26:53.289216Z",
     "start_time": "2020-10-22T05:26:45.735390Z"
    }
   },
   "outputs": [],
   "source": [
    "from mayavi import mlab\n",
    "\n",
    "mlab.figure(bgcolor=(1,1,1),size=(800,800))\n",
    "mlab.clf()\n",
    "\n",
    "iso_oil=1.5\n",
    "mlab.contour3d(image,contours = [iso_oil],colormap='hot',opacity=1)\n",
    "mlab.show()"
   ]
  },
  {
   "cell_type": "markdown",
   "metadata": {},
   "source": [
    "## Plot oil blob and grain surface"
   ]
  },
  {
   "cell_type": "code",
   "execution_count": 28,
   "metadata": {
    "ExecuteTime": {
     "end_time": "2020-10-22T05:17:41.515659Z",
     "start_time": "2020-10-22T05:16:57.396031Z"
    }
   },
   "outputs": [],
   "source": [
    "from mayavi import mlab\n",
    "\n",
    "mlab.figure(bgcolor=(1,1,1),size=(800,800))\n",
    "mlab.clf()\n",
    "\n",
    "iso_grain = 2.5\n",
    "iso_oil=1.5\n",
    "mlab.contour3d(image_rescaled,contours = [iso_oil,iso_grain],opacity=0.25,colormap=\"hot\")\n",
    "mlab.outline(color=(0,0,0))\n",
    "mlab.show()"
   ]
  }
 ],
 "metadata": {
  "kernelspec": {
   "display_name": "Python 3",
   "language": "python",
   "name": "python3"
  },
  "language_info": {
   "codemirror_mode": {
    "name": "ipython",
    "version": 3
   },
   "file_extension": ".py",
   "mimetype": "text/x-python",
   "name": "python",
   "nbconvert_exporter": "python",
   "pygments_lexer": "ipython3",
   "version": "3.7.9"
  },
  "toc": {
   "base_numbering": 1,
   "nav_menu": {},
   "number_sections": true,
   "sideBar": true,
   "skip_h1_title": false,
   "title_cell": "Table of Contents",
   "title_sidebar": "Contents",
   "toc_cell": false,
   "toc_position": {},
   "toc_section_display": true,
   "toc_window_display": false
  },
  "varInspector": {
   "cols": {
    "lenName": 16,
    "lenType": 16,
    "lenVar": 40
   },
   "kernels_config": {
    "python": {
     "delete_cmd_postfix": "",
     "delete_cmd_prefix": "del ",
     "library": "var_list.py",
     "varRefreshCmd": "print(var_dic_list())"
    },
    "r": {
     "delete_cmd_postfix": ") ",
     "delete_cmd_prefix": "rm(",
     "library": "var_list.r",
     "varRefreshCmd": "cat(var_dic_list()) "
    }
   },
   "types_to_exclude": [
    "module",
    "function",
    "builtin_function_or_method",
    "instance",
    "_Feature"
   ],
   "window_display": false
  }
 },
 "nbformat": 4,
 "nbformat_minor": 4
}
